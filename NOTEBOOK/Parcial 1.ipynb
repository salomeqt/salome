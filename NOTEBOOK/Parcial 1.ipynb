{
 "cells": [
  {
   "cell_type": "code",
   "execution_count": 31,
   "id": "61573bd0",
   "metadata": {},
   "outputs": [],
   "source": [
    "#Importo las librerias necesarias\n",
    "import pandas as pd\n",
    "import numpy as np"
   ]
  },
  {
   "cell_type": "code",
   "execution_count": 32,
   "id": "ca18b092",
   "metadata": {},
   "outputs": [],
   "source": [
    "#Importo los datos\n",
    "df_emicron=pd.read_csv('https://raw.githubusercontent.com/niconomist98/DataAnalyticsUQ/refs/heads/main/Datos/EMICRON/emicron_identificacion.csv', encoding='latin', sep= ',')"
   ]
  },
  {
   "cell_type": "code",
   "execution_count": 33,
   "id": "bfc3b179",
   "metadata": {},
   "outputs": [
    {
     "name": "stdout",
     "output_type": "stream",
     "text": [
      "El total de micronegocios en colombia es: 5297251\n"
     ]
    }
   ],
   "source": [
    "#calculamos el total de micronegocios en colombia, teniendo en cuenta que el factor de expansión es F_EXP\n",
    "TM=df_emicron['F_EXP'].sum()\n",
    "print(f'El total de micronegocios en colombia es: {int(TM)}')"
   ]
  },
  {
   "cell_type": "markdown",
   "id": "120cd9ac",
   "metadata": {},
   "source": [
    "1. ¿Cuántos micronegocios hay en el quindio cuyos propietarios son hombres entre los 18 y los 30 años?"
   ]
  },
  {
   "cell_type": "code",
   "execution_count": 34,
   "id": "1e5673c1",
   "metadata": {},
   "outputs": [
    {
     "data": {
      "text/plain": [
       "Index(['DIRECTORIO', 'SECUENCIA_P', 'SECUENCIA_ENCUESTA', 'COD_DEPTO', 'AREA',\n",
       "       'CLASE_TE', 'P35', 'P241', 'MES_REF', 'P3031', 'P3032_1', 'P3032_2',\n",
       "       'P3032_3', 'P3033', 'P3034', 'P3035', 'P3000', 'GRUPOS4', 'GRUPOS12',\n",
       "       'F_EXP'],\n",
       "      dtype='object')"
      ]
     },
     "execution_count": 34,
     "metadata": {},
     "output_type": "execute_result"
    }
   ],
   "source": [
    "#Primero miramos si estan las variables que necesitamos, que en este caso seria P241 que es la edad del propietario, COD_DEPTO que nos indica el departamento y P35 que nos dice el sexo del propietario   \n",
    "df_emicron.columns"
   ]
  },
  {
   "cell_type": "code",
   "execution_count": 35,
   "id": "fe20d834",
   "metadata": {},
   "outputs": [
    {
     "name": "stdout",
     "output_type": "stream",
     "text": [
      "El total de micronegocios en el Quindío con propietarios hombres entre los 18 y 30 años es: 1929\n"
     ]
    }
   ],
   "source": [
    "#Ahora filtramos los datos con los requisitos agregando que la edad debe ser entre los 18 y 30 años, el codigo del departamento es 63 para el quindío y el sexo es 1 para hombres\n",
    "micronegocios=df_emicron[(df_emicron['COD_DEPTO']==63) & (df_emicron['P35']==1) & (df_emicron['P241'].between(18, 30))]\n",
    "\n",
    "\n",
    "# Calcular micronegocios expandidos\n",
    "MHQ = micronegocios['F_EXP'].sum()\n",
    "\n",
    "print(f'El total de micronegocios en el Quindío con propietarios hombres entre los 18 y 30 años es: {int(MHQ)}' )"
   ]
  },
  {
   "cell_type": "markdown",
   "id": "fa23f171",
   "metadata": {},
   "source": [
    "2. ¿Cuantos micronegocios de la industria manufacturera existen en el departamento de risaralda cuyas propietarias son mujeres entre los 20 y los 30 año?"
   ]
  },
  {
   "cell_type": "code",
   "execution_count": 36,
   "id": "67ea138f",
   "metadata": {},
   "outputs": [
    {
     "name": "stdout",
     "output_type": "stream",
     "text": [
      "El total de micronegocios en Risaralda del sector manufacturero con propietarioas mujeres entre los 20 y 30 años es: 471\n"
     ]
    }
   ],
   "source": [
    "#Ya tenemos las variables de edad, departamento y genero debemos incluir GRUPOS4 que nos permite saber de que sector es el micronegocio, la categoria para el sector de manufactura es 2\n",
    "\n",
    "#Ahora filtramos los datos con los requisitos agregando que la edad debe ser entre los 20 y 30 años, el codigo del departamento es 66 para risaralda y el sexo es 2 para mujeres\n",
    "MMR = df_emicron[(df_emicron['COD_DEPTO'] == 66) & (df_emicron['P35'] == 2) & (df_emicron['P241'].between(20, 30)) & (df_emicron['GRUPOS4'] == 2)]\n",
    "\n",
    "# Ahora calculamos el total de micronegocios con estas caracteristicas\n",
    "TMMR= MMR[\"F_EXP\"].sum()\n",
    "\n",
    "print(f'El total de micronegocios en Risaralda del sector manufacturero con propietarioas mujeres entre los 20 y 30 años es: {int(TMMR)}')"
   ]
  },
  {
   "cell_type": "markdown",
   "id": "9fde8baa",
   "metadata": {},
   "source": [
    "3. Entre las ciudades de manizales, Pereira y Armenia, ¿Cuál de las 3 tiene más micronegocios del sector comercio cuyas propietarias son mujeres mayores a 40 años?"
   ]
  },
  {
   "cell_type": "code",
   "execution_count": 37,
   "id": "8811241d",
   "metadata": {},
   "outputs": [
    {
     "name": "stdout",
     "output_type": "stream",
     "text": [
      "El total de micronegocios del sector comercio cuyas propietarias son mayores a 40 años en manizales es: 2636\n",
      "El total de micronegocios del sector comercio cuyas propietarias son mayores a 40 años en armenia es: 2557\n",
      "El total de micronegocios del sector comercio cuyas propietarias son mayores a 40 años en Pereira es: 3827\n"
     ]
    }
   ],
   "source": [
    "\n",
    "#Hago lo mismo pero cambiamos la categoria para el sector de comercio que es 3 y agregamos la variable area en donde la categoria 17 es de manizales, 63 para armenia y 66 para pereira, ademas tenemos en cuenta la categoria 2 para mujer y ponemos mayor o igual a 40 años\n",
    "\n",
    "#Empezamos con manizales area=17 \n",
    "MMM40= df_emicron[(df_emicron['AREA']==17) & (df_emicron['P35']==2) & (df_emicron['P241']>40) & (df_emicron['GRUPOS4']==3)]\n",
    "\n",
    "TMMM40=MMM40['F_EXP'].sum()\n",
    "\n",
    "print(f'El total de micronegocios del sector comercio cuyas propietarias son mayores a 40 años en manizales es: {int(TMMM40)}')\n",
    "\n",
    "#Segundo Armenia con area=63\n",
    "MMA40= df_emicron[(df_emicron['AREA']==63) & (df_emicron['P35']==2) & (df_emicron['P241']>40) & (df_emicron['GRUPOS4']==3)]\n",
    "\n",
    "TMMA40=MMA40['F_EXP'].sum()\n",
    "\n",
    "print(f'El total de micronegocios del sector comercio cuyas propietarias son mayores a 40 años en armenia es: {int(TMMA40)}')\n",
    "\n",
    "#Tercero con Pereira con area=66\n",
    "\n",
    "MMP40= df_emicron[(df_emicron['AREA']==66) & (df_emicron['P35']==2) & (df_emicron['P241']>40) & (df_emicron['GRUPOS4']==3)]\n",
    "\n",
    "TMMP40=MMP40['F_EXP'].sum()\n",
    "\n",
    "print(f'El total de micronegocios del sector comercio cuyas propietarias son mayores a 40 años en Pereira es: {int(TMMP40)}')\n"
   ]
  },
  {
   "cell_type": "markdown",
   "id": "f9dd39bd",
   "metadata": {},
   "source": [
    "4. ¿Cuántos micronegocios en la ciudad de Armenia hay cuyos propietarios son hombres que no tienen nombre comercial?"
   ]
  },
  {
   "cell_type": "code",
   "execution_count": 38,
   "id": "10cbd678",
   "metadata": {},
   "outputs": [
    {
     "name": "stdout",
     "output_type": "stream",
     "text": [
      "El total de micronegocios en armenia de propietarios hombres que no tienen nombre comercial es: 11603\n"
     ]
    }
   ],
   "source": [
    "#Ahora debemos incluir P3035 que nos determina si tiene nombre comercial o no, donde la categoria 2 es para no, usaremos area 63 ya que es para la ciudad de armenia y usaremos la categoria 1 que es hombre para el sexo.\n",
    "\n",
    "SN=df_emicron[(df_emicron['AREA']==63) & (df_emicron['P35']==1) & (df_emicron['P3035']==2)]\n",
    "Total_SN=SN['F_EXP'].sum()\n",
    "\n",
    "print(f'El total de micronegocios en armenia de propietarios hombres que no tienen nombre comercial es: {int(Total_SN)}')"
   ]
  }
 ],
 "metadata": {
  "kernelspec": {
   "display_name": ".venv",
   "language": "python",
   "name": "python3"
  },
  "language_info": {
   "codemirror_mode": {
    "name": "ipython",
    "version": 3
   },
   "file_extension": ".py",
   "mimetype": "text/x-python",
   "name": "python",
   "nbconvert_exporter": "python",
   "pygments_lexer": "ipython3",
   "version": "3.12.1"
  }
 },
 "nbformat": 4,
 "nbformat_minor": 5
}
