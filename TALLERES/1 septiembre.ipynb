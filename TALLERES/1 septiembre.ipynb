{
 "cells": [
  {
   "cell_type": "code",
   "execution_count": 16,
   "id": "0caca6c6",
   "metadata": {},
   "outputs": [],
   "source": [
    "#importo librerias \n",
    "import pandas as pd\n",
    "import numpy as np"
   ]
  },
  {
   "cell_type": "code",
   "execution_count": 17,
   "id": "17d9a190",
   "metadata": {},
   "outputs": [],
   "source": [
    "df_cgsse = pd.read_csv('https://github.com/niconomist98/DataAnalyticsUQ/raw/refs/heads/main/Datos/GEIH2025/cgsse.CSV', encoding='latin', sep= ';')"
   ]
  },
  {
   "cell_type": "code",
   "execution_count": 18,
   "id": "314cf23a",
   "metadata": {},
   "outputs": [
    {
     "name": "stderr",
     "output_type": "stream",
     "text": [
      "/tmp/ipykernel_27451/3989311870.py:1: DtypeWarning: Columns (28,89,133,147,158) have mixed types. Specify dtype option on import or set low_memory=False.\n",
      "  df_ocupados = pd.read_csv('https://github.com/niconomist98/DataAnalyticsUQ/raw/refs/heads/main/Datos/GEIH2025/Ocupados.CSV', encoding='latin', sep= ';')\n"
     ]
    }
   ],
   "source": [
    "df_ocupados = pd.read_csv('https://github.com/niconomist98/DataAnalyticsUQ/raw/refs/heads/main/Datos/GEIH2025/Ocupados.CSV', encoding='latin', sep= ';')\n"
   ]
  },
  {
   "cell_type": "code",
   "execution_count": 19,
   "id": "e8a8aece",
   "metadata": {},
   "outputs": [],
   "source": [
    "df_desocupados = pd.read_csv('https://github.com/niconomist98/DataAnalyticsUQ/raw/refs/heads/main/Datos/GEIH2025/No%20ocupados.CSV', encoding='latin', sep= ';')"
   ]
  },
  {
   "cell_type": "code",
   "execution_count": 20,
   "id": "8e60d763",
   "metadata": {},
   "outputs": [
    {
     "name": "stderr",
     "output_type": "stream",
     "text": [
      "/tmp/ipykernel_27451/2498924897.py:1: DtypeWarning: Columns (33) have mixed types. Specify dtype option on import or set low_memory=False.\n",
      "  df_fuerza= pd.read_csv('https://github.com/niconomist98/DataAnalyticsUQ/raw/refs/heads/main/Datos/GEIH2025/Fuerza%20de%20trabajo.CSV', encoding='latin', sep= ';')\n"
     ]
    }
   ],
   "source": [
    "df_fuerza= pd.read_csv('https://github.com/niconomist98/DataAnalyticsUQ/raw/refs/heads/main/Datos/GEIH2025/Fuerza%20de%20trabajo.CSV', encoding='latin', sep= ';')"
   ]
  },
  {
   "cell_type": "code",
   "execution_count": 21,
   "id": "9697e17b",
   "metadata": {},
   "outputs": [
    {
     "name": "stdout",
     "output_type": "stream",
     "text": [
      " La PEA es: 25974846.22356785\n",
      " La PEI es: 14678569.776436238\n"
     ]
    }
   ],
   "source": [
    "PEA= df_fuerza[df_fuerza['FT']==1]['FEX_C18'].sum()\n",
    "print(f' La PEA es: {PEA}')\n",
    "\n",
    "PEI=df_fuerza[df_fuerza['FFT']==1]['FEX_C18'].sum()\n",
    "print(f' La PEI es: {PEI}')"
   ]
  },
  {
   "cell_type": "code",
   "execution_count": 22,
   "id": "b842fbef",
   "metadata": {},
   "outputs": [
    {
     "name": "stdout",
     "output_type": "stream",
     "text": [
      " La PET es: 40653416.00000409\n"
     ]
    }
   ],
   "source": [
    "PET=df_fuerza[df_fuerza['PET']==1]['FEX_C18'].sum()\n",
    "print(f' La PET es: {PET}')"
   ]
  },
  {
   "cell_type": "code",
   "execution_count": 23,
   "id": "d647f796",
   "metadata": {},
   "outputs": [
    {
     "name": "stdout",
     "output_type": "stream",
     "text": [
      " La PNET es: 11391584.99999591\n"
     ]
    }
   ],
   "source": [
    "PT=int(df_cgsse['FEX_C18'].sum())\n",
    "PNET=PT-PET\n",
    "print(f' La PNET es: {PNET}')"
   ]
  },
  {
   "cell_type": "code",
   "execution_count": 24,
   "id": "be589ce1",
   "metadata": {},
   "outputs": [
    {
     "name": "stdout",
     "output_type": "stream",
     "text": [
      " Poblacion desempleada: 2221893.563312005\n",
      "Tasa de Desempleo: 8.55%\n",
      " Poblacion ocupada: 23752952.660255846\n",
      " Tasa de ocupación: 58.43%\n"
     ]
    }
   ],
   "source": [
    "D= df_desocupados[df_desocupados['DSI']==1]['FEX_C18'].sum()\n",
    "print(f' Poblacion desempleada: {D}')\n",
    "\n",
    "TD= D/PEA\n",
    "print(f'Tasa de Desempleo: {TD:.2%}')\n",
    "\n",
    "O=df_ocupados['FEX_C18'].sum()\n",
    "print(f' Poblacion ocupada: {O}')\n",
    "\n",
    "TO= O/PET\n",
    "print(f' Tasa de ocupación: {TO:.2%}')"
   ]
  }
 ],
 "metadata": {
  "kernelspec": {
   "display_name": ".venv",
   "language": "python",
   "name": "python3"
  },
  "language_info": {
   "codemirror_mode": {
    "name": "ipython",
    "version": 3
   },
   "file_extension": ".py",
   "mimetype": "text/x-python",
   "name": "python",
   "nbconvert_exporter": "python",
   "pygments_lexer": "ipython3",
   "version": "3.12.1"
  }
 },
 "nbformat": 4,
 "nbformat_minor": 5
}
