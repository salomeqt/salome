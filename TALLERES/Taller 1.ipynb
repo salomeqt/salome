{
 "cells": [
  {
   "cell_type": "markdown",
   "id": "7eaf0ba9",
   "metadata": {},
   "source": [
    "TALLER 1 realizado por Sergio Rueda Reltran y Salome Quintero Triana"
   ]
  },
  {
   "cell_type": "code",
   "execution_count": 46,
   "id": "db9e23b6",
   "metadata": {},
   "outputs": [],
   "source": [
    "#importo librerias \n",
    "import pandas as pd\n",
    "import numpy as np"
   ]
  },
  {
   "cell_type": "code",
   "execution_count": 47,
   "id": "14805294",
   "metadata": {},
   "outputs": [],
   "source": [
    "#leyendo los datos de la geih \n",
    "df_cgsse = pd.read_csv('https://github.com/niconomist98/DataAnalyticsUQ/raw/refs/heads/main/Datos/GEIH2025/cgsse.CSV', encoding='latin', sep= ';')"
   ]
  },
  {
   "cell_type": "code",
   "execution_count": 48,
   "id": "03775e66",
   "metadata": {},
   "outputs": [
    {
     "data": {
      "text/html": [
       "<div>\n",
       "<style scoped>\n",
       "    .dataframe tbody tr th:only-of-type {\n",
       "        vertical-align: middle;\n",
       "    }\n",
       "\n",
       "    .dataframe tbody tr th {\n",
       "        vertical-align: top;\n",
       "    }\n",
       "\n",
       "    .dataframe thead th {\n",
       "        text-align: right;\n",
       "    }\n",
       "</style>\n",
       "<table border=\"1\" class=\"dataframe\">\n",
       "  <thead>\n",
       "    <tr style=\"text-align: right;\">\n",
       "      <th></th>\n",
       "      <th>PERIODO</th>\n",
       "      <th>MES</th>\n",
       "      <th>PER</th>\n",
       "      <th>DIRECTORIO</th>\n",
       "      <th>SECUENCIA_P</th>\n",
       "      <th>ORDEN</th>\n",
       "      <th>HOGAR</th>\n",
       "      <th>REGIS</th>\n",
       "      <th>AREA</th>\n",
       "      <th>CLASE</th>\n",
       "      <th>...</th>\n",
       "      <th>P6170</th>\n",
       "      <th>P3041</th>\n",
       "      <th>P3042</th>\n",
       "      <th>P3042S1</th>\n",
       "      <th>P3042S2</th>\n",
       "      <th>P3043</th>\n",
       "      <th>P3043S1</th>\n",
       "      <th>P3038</th>\n",
       "      <th>P3039</th>\n",
       "      <th>POB_MAY18</th>\n",
       "    </tr>\n",
       "  </thead>\n",
       "  <tbody>\n",
       "    <tr>\n",
       "      <th>0</th>\n",
       "      <td>20250626</td>\n",
       "      <td>6</td>\n",
       "      <td>2025</td>\n",
       "      <td>8238974</td>\n",
       "      <td>1</td>\n",
       "      <td>1</td>\n",
       "      <td>1</td>\n",
       "      <td>10</td>\n",
       "      <td>NaN</td>\n",
       "      <td>2</td>\n",
       "      <td>...</td>\n",
       "      <td>2.0</td>\n",
       "      <td>NaN</td>\n",
       "      <td>5.0</td>\n",
       "      <td>2.0</td>\n",
       "      <td>NaN</td>\n",
       "      <td>2.0</td>\n",
       "      <td>NaN</td>\n",
       "      <td>1.0</td>\n",
       "      <td>2.0</td>\n",
       "      <td>1.0</td>\n",
       "    </tr>\n",
       "    <tr>\n",
       "      <th>1</th>\n",
       "      <td>20250626</td>\n",
       "      <td>6</td>\n",
       "      <td>2025</td>\n",
       "      <td>8238974</td>\n",
       "      <td>1</td>\n",
       "      <td>2</td>\n",
       "      <td>1</td>\n",
       "      <td>10</td>\n",
       "      <td>NaN</td>\n",
       "      <td>2</td>\n",
       "      <td>...</td>\n",
       "      <td>2.0</td>\n",
       "      <td>NaN</td>\n",
       "      <td>5.0</td>\n",
       "      <td>1.0</td>\n",
       "      <td>NaN</td>\n",
       "      <td>1.0</td>\n",
       "      <td>NaN</td>\n",
       "      <td>2.0</td>\n",
       "      <td>1.0</td>\n",
       "      <td>1.0</td>\n",
       "    </tr>\n",
       "    <tr>\n",
       "      <th>2</th>\n",
       "      <td>20250626</td>\n",
       "      <td>6</td>\n",
       "      <td>2025</td>\n",
       "      <td>8238975</td>\n",
       "      <td>1</td>\n",
       "      <td>1</td>\n",
       "      <td>1</td>\n",
       "      <td>10</td>\n",
       "      <td>NaN</td>\n",
       "      <td>2</td>\n",
       "      <td>...</td>\n",
       "      <td>2.0</td>\n",
       "      <td>NaN</td>\n",
       "      <td>3.0</td>\n",
       "      <td>3.0</td>\n",
       "      <td>NaN</td>\n",
       "      <td>NaN</td>\n",
       "      <td>NaN</td>\n",
       "      <td>2.0</td>\n",
       "      <td>1.0</td>\n",
       "      <td>1.0</td>\n",
       "    </tr>\n",
       "    <tr>\n",
       "      <th>3</th>\n",
       "      <td>20250626</td>\n",
       "      <td>6</td>\n",
       "      <td>2025</td>\n",
       "      <td>8238975</td>\n",
       "      <td>1</td>\n",
       "      <td>2</td>\n",
       "      <td>1</td>\n",
       "      <td>10</td>\n",
       "      <td>NaN</td>\n",
       "      <td>2</td>\n",
       "      <td>...</td>\n",
       "      <td>2.0</td>\n",
       "      <td>NaN</td>\n",
       "      <td>1.0</td>\n",
       "      <td>0.0</td>\n",
       "      <td>NaN</td>\n",
       "      <td>NaN</td>\n",
       "      <td>NaN</td>\n",
       "      <td>2.0</td>\n",
       "      <td>1.0</td>\n",
       "      <td>1.0</td>\n",
       "    </tr>\n",
       "    <tr>\n",
       "      <th>4</th>\n",
       "      <td>20250626</td>\n",
       "      <td>6</td>\n",
       "      <td>2025</td>\n",
       "      <td>8238975</td>\n",
       "      <td>1</td>\n",
       "      <td>3</td>\n",
       "      <td>1</td>\n",
       "      <td>10</td>\n",
       "      <td>NaN</td>\n",
       "      <td>2</td>\n",
       "      <td>...</td>\n",
       "      <td>2.0</td>\n",
       "      <td>NaN</td>\n",
       "      <td>1.0</td>\n",
       "      <td>0.0</td>\n",
       "      <td>NaN</td>\n",
       "      <td>NaN</td>\n",
       "      <td>NaN</td>\n",
       "      <td>1.0</td>\n",
       "      <td>2.0</td>\n",
       "      <td>1.0</td>\n",
       "    </tr>\n",
       "    <tr>\n",
       "      <th>...</th>\n",
       "      <td>...</td>\n",
       "      <td>...</td>\n",
       "      <td>...</td>\n",
       "      <td>...</td>\n",
       "      <td>...</td>\n",
       "      <td>...</td>\n",
       "      <td>...</td>\n",
       "      <td>...</td>\n",
       "      <td>...</td>\n",
       "      <td>...</td>\n",
       "      <td>...</td>\n",
       "      <td>...</td>\n",
       "      <td>...</td>\n",
       "      <td>...</td>\n",
       "      <td>...</td>\n",
       "      <td>...</td>\n",
       "      <td>...</td>\n",
       "      <td>...</td>\n",
       "      <td>...</td>\n",
       "      <td>...</td>\n",
       "      <td>...</td>\n",
       "    </tr>\n",
       "    <tr>\n",
       "      <th>67851</th>\n",
       "      <td>20250626</td>\n",
       "      <td>6</td>\n",
       "      <td>2025</td>\n",
       "      <td>8283060</td>\n",
       "      <td>1</td>\n",
       "      <td>1</td>\n",
       "      <td>1</td>\n",
       "      <td>10</td>\n",
       "      <td>88.0</td>\n",
       "      <td>1</td>\n",
       "      <td>...</td>\n",
       "      <td>2.0</td>\n",
       "      <td>NaN</td>\n",
       "      <td>5.0</td>\n",
       "      <td>2.0</td>\n",
       "      <td>NaN</td>\n",
       "      <td>2.0</td>\n",
       "      <td>NaN</td>\n",
       "      <td>1.0</td>\n",
       "      <td>2.0</td>\n",
       "      <td>1.0</td>\n",
       "    </tr>\n",
       "    <tr>\n",
       "      <th>67852</th>\n",
       "      <td>20250626</td>\n",
       "      <td>6</td>\n",
       "      <td>2025</td>\n",
       "      <td>8283060</td>\n",
       "      <td>1</td>\n",
       "      <td>2</td>\n",
       "      <td>1</td>\n",
       "      <td>10</td>\n",
       "      <td>88.0</td>\n",
       "      <td>1</td>\n",
       "      <td>...</td>\n",
       "      <td>2.0</td>\n",
       "      <td>NaN</td>\n",
       "      <td>5.0</td>\n",
       "      <td>2.0</td>\n",
       "      <td>NaN</td>\n",
       "      <td>2.0</td>\n",
       "      <td>NaN</td>\n",
       "      <td>2.0</td>\n",
       "      <td>1.0</td>\n",
       "      <td>1.0</td>\n",
       "    </tr>\n",
       "    <tr>\n",
       "      <th>67853</th>\n",
       "      <td>20250626</td>\n",
       "      <td>6</td>\n",
       "      <td>2025</td>\n",
       "      <td>8283062</td>\n",
       "      <td>1</td>\n",
       "      <td>1</td>\n",
       "      <td>1</td>\n",
       "      <td>10</td>\n",
       "      <td>94.0</td>\n",
       "      <td>1</td>\n",
       "      <td>...</td>\n",
       "      <td>2.0</td>\n",
       "      <td>NaN</td>\n",
       "      <td>3.0</td>\n",
       "      <td>3.0</td>\n",
       "      <td>NaN</td>\n",
       "      <td>NaN</td>\n",
       "      <td>NaN</td>\n",
       "      <td>2.0</td>\n",
       "      <td>1.0</td>\n",
       "      <td>1.0</td>\n",
       "    </tr>\n",
       "    <tr>\n",
       "      <th>67854</th>\n",
       "      <td>20250626</td>\n",
       "      <td>6</td>\n",
       "      <td>2025</td>\n",
       "      <td>8283062</td>\n",
       "      <td>1</td>\n",
       "      <td>2</td>\n",
       "      <td>1</td>\n",
       "      <td>10</td>\n",
       "      <td>94.0</td>\n",
       "      <td>1</td>\n",
       "      <td>...</td>\n",
       "      <td>2.0</td>\n",
       "      <td>NaN</td>\n",
       "      <td>3.0</td>\n",
       "      <td>2.0</td>\n",
       "      <td>NaN</td>\n",
       "      <td>NaN</td>\n",
       "      <td>NaN</td>\n",
       "      <td>1.0</td>\n",
       "      <td>2.0</td>\n",
       "      <td>1.0</td>\n",
       "    </tr>\n",
       "    <tr>\n",
       "      <th>67855</th>\n",
       "      <td>20250626</td>\n",
       "      <td>6</td>\n",
       "      <td>2025</td>\n",
       "      <td>8283062</td>\n",
       "      <td>1</td>\n",
       "      <td>3</td>\n",
       "      <td>1</td>\n",
       "      <td>10</td>\n",
       "      <td>94.0</td>\n",
       "      <td>1</td>\n",
       "      <td>...</td>\n",
       "      <td>2.0</td>\n",
       "      <td>NaN</td>\n",
       "      <td>5.0</td>\n",
       "      <td>2.0</td>\n",
       "      <td>NaN</td>\n",
       "      <td>2.0</td>\n",
       "      <td>NaN</td>\n",
       "      <td>1.0</td>\n",
       "      <td>2.0</td>\n",
       "      <td>1.0</td>\n",
       "    </tr>\n",
       "  </tbody>\n",
       "</table>\n",
       "<p>67856 rows × 55 columns</p>\n",
       "</div>"
      ],
      "text/plain": [
       "        PERIODO  MES   PER  DIRECTORIO  SECUENCIA_P  ORDEN  HOGAR  REGIS  \\\n",
       "0      20250626    6  2025     8238974            1      1      1     10   \n",
       "1      20250626    6  2025     8238974            1      2      1     10   \n",
       "2      20250626    6  2025     8238975            1      1      1     10   \n",
       "3      20250626    6  2025     8238975            1      2      1     10   \n",
       "4      20250626    6  2025     8238975            1      3      1     10   \n",
       "...         ...  ...   ...         ...          ...    ...    ...    ...   \n",
       "67851  20250626    6  2025     8283060            1      1      1     10   \n",
       "67852  20250626    6  2025     8283060            1      2      1     10   \n",
       "67853  20250626    6  2025     8283062            1      1      1     10   \n",
       "67854  20250626    6  2025     8283062            1      2      1     10   \n",
       "67855  20250626    6  2025     8283062            1      3      1     10   \n",
       "\n",
       "       AREA  CLASE  ...  P6170  P3041  P3042  P3042S1  P3042S2  P3043  \\\n",
       "0       NaN      2  ...    2.0    NaN    5.0      2.0      NaN    2.0   \n",
       "1       NaN      2  ...    2.0    NaN    5.0      1.0      NaN    1.0   \n",
       "2       NaN      2  ...    2.0    NaN    3.0      3.0      NaN    NaN   \n",
       "3       NaN      2  ...    2.0    NaN    1.0      0.0      NaN    NaN   \n",
       "4       NaN      2  ...    2.0    NaN    1.0      0.0      NaN    NaN   \n",
       "...     ...    ...  ...    ...    ...    ...      ...      ...    ...   \n",
       "67851  88.0      1  ...    2.0    NaN    5.0      2.0      NaN    2.0   \n",
       "67852  88.0      1  ...    2.0    NaN    5.0      2.0      NaN    2.0   \n",
       "67853  94.0      1  ...    2.0    NaN    3.0      3.0      NaN    NaN   \n",
       "67854  94.0      1  ...    2.0    NaN    3.0      2.0      NaN    NaN   \n",
       "67855  94.0      1  ...    2.0    NaN    5.0      2.0      NaN    2.0   \n",
       "\n",
       "       P3043S1  P3038  P3039  POB_MAY18  \n",
       "0          NaN    1.0    2.0        1.0  \n",
       "1          NaN    2.0    1.0        1.0  \n",
       "2          NaN    2.0    1.0        1.0  \n",
       "3          NaN    2.0    1.0        1.0  \n",
       "4          NaN    1.0    2.0        1.0  \n",
       "...        ...    ...    ...        ...  \n",
       "67851      NaN    1.0    2.0        1.0  \n",
       "67852      NaN    2.0    1.0        1.0  \n",
       "67853      NaN    2.0    1.0        1.0  \n",
       "67854      NaN    1.0    2.0        1.0  \n",
       "67855      NaN    1.0    2.0        1.0  \n",
       "\n",
       "[67856 rows x 55 columns]"
      ]
     },
     "execution_count": 48,
     "metadata": {},
     "output_type": "execute_result"
    }
   ],
   "source": [
    "df_cgsse"
   ]
  },
  {
   "cell_type": "markdown",
   "id": "4a2afb46",
   "metadata": {},
   "source": [
    "1. Para el total nacional calcule :\n"
   ]
  },
  {
   "cell_type": "code",
   "execution_count": 49,
   "id": "bfd42b14",
   "metadata": {},
   "outputs": [
    {
     "name": "stdout",
     "output_type": "stream",
     "text": [
      "La Población total de colombia es: 52045001\n"
     ]
    }
   ],
   "source": [
    "# a. calculando la poblacion total de colombia \n",
    "PT=(df_cgsse['FEX_C18'].sum())\n",
    "print(f'La Población total de colombia es: {int(PT)}')"
   ]
  },
  {
   "cell_type": "code",
   "execution_count": 50,
   "id": "6f9d664d",
   "metadata": {},
   "outputs": [
    {
     "name": "stderr",
     "output_type": "stream",
     "text": [
      "/tmp/ipykernel_62204/1156854569.py:3: DtypeWarning: Columns (28,89,133,147,158) have mixed types. Specify dtype option on import or set low_memory=False.\n",
      "  df_ocupados = pd.read_csv('https://github.com/niconomist98/DataAnalyticsUQ/raw/refs/heads/main/Datos/GEIH2025/Ocupados.CSV', encoding='latin', sep= ';')\n",
      "/tmp/ipykernel_62204/1156854569.py:7: DtypeWarning: Columns (33) have mixed types. Specify dtype option on import or set low_memory=False.\n",
      "  df_fuerza= pd.read_csv('https://github.com/niconomist98/DataAnalyticsUQ/raw/refs/heads/main/Datos/GEIH2025/Fuerza%20de%20trabajo.CSV', encoding='latin', sep= ';')\n"
     ]
    }
   ],
   "source": [
    "#leemos los datos de ocupados, desocupados y fuerza de trabajo\n",
    "\n",
    "df_ocupados = pd.read_csv('https://github.com/niconomist98/DataAnalyticsUQ/raw/refs/heads/main/Datos/GEIH2025/Ocupados.CSV', encoding='latin', sep= ';')\n",
    "\n",
    "df_desocupados = pd.read_csv('https://github.com/niconomist98/DataAnalyticsUQ/raw/refs/heads/main/Datos/GEIH2025/No%20ocupados.CSV', encoding='latin', sep= ';')\n",
    "\n",
    "df_fuerza= pd.read_csv('https://github.com/niconomist98/DataAnalyticsUQ/raw/refs/heads/main/Datos/GEIH2025/Fuerza%20de%20trabajo.CSV', encoding='latin', sep= ';')"
   ]
  },
  {
   "cell_type": "code",
   "execution_count": 51,
   "id": "b385ee5d",
   "metadata": {},
   "outputs": [
    {
     "data": {
      "text/plain": [
       "Index(['PERIODO', 'MES', 'PER', 'DIRECTORIO', 'SECUENCIA_P', 'ORDEN', 'HOGAR',\n",
       "       'REGIS', 'AREA', 'CLASE', 'FEX_C18', 'DPTO', 'FFT', 'DSI', 'P7250',\n",
       "       'P7280', 'P7280S1', 'P744', 'P3074', 'P7260', 'P1806', 'P7430', 'P7440',\n",
       "       'P7440S1', 'P7440S2', 'P7450', 'P7350', 'P7360', 'P9460', 'P1519',\n",
       "       'P1883', 'P7422', 'P7422S1', 'OFICIO1_C8', 'OFICIO2_C8', 'RAMA2D_D_R4',\n",
       "       'RAMA4D_D_R4'],\n",
       "      dtype='object')"
      ]
     },
     "execution_count": 51,
     "metadata": {},
     "output_type": "execute_result"
    }
   ],
   "source": [
    "df_desocupados.columns"
   ]
  },
  {
   "cell_type": "code",
   "execution_count": 52,
   "id": "0ee6506a",
   "metadata": {},
   "outputs": [
    {
     "name": "stdout",
     "output_type": "stream",
     "text": [
      "la poblacion en edad de trabajar es: 40653416\n"
     ]
    }
   ],
   "source": [
    "# b. calulamos la poblacion en edad de trabajar\n",
    "PET=df_fuerza[df_fuerza['PET']==1]['FEX_C18'].sum()\n",
    "print(f'la poblacion en edad de trabajar es: {int(PET)}')"
   ]
  },
  {
   "cell_type": "code",
   "execution_count": 53,
   "id": "98f6d5b9",
   "metadata": {},
   "outputs": [
    {
     "name": "stdout",
     "output_type": "stream",
     "text": [
      "la poblacion que no esta en edad de trabajar es: 11391585\n"
     ]
    }
   ],
   "source": [
    "#c. calculamos la poblacion que no esta en edad de trabajar \n",
    "PNET=PT-PET\n",
    "print(f'la poblacion que no esta en edad de trabajar es: {int(PNET)}')"
   ]
  },
  {
   "cell_type": "code",
   "execution_count": 54,
   "id": "55cb4c20",
   "metadata": {},
   "outputs": [
    {
     "name": "stdout",
     "output_type": "stream",
     "text": [
      "La Población economicamente activa es: 25974846\n"
     ]
    }
   ],
   "source": [
    "#d. calculamos la población económicamente activa, segun el dane tambien se llama fuerza laboral y son las personas en edad de trabajar, que trabajan o buscan empleo\n",
    "PEA=df_fuerza[df_fuerza['FT']==1]['FEX_C18'].sum()\n",
    "print(f'La Población economicamente activa es: {int(PEA)}')"
   ]
  },
  {
   "cell_type": "code",
   "execution_count": 55,
   "id": "a65b7ab0",
   "metadata": {},
   "outputs": [
    {
     "name": "stdout",
     "output_type": "stream",
     "text": [
      "La población economicamente inactiva es: 14678569\n"
     ]
    }
   ],
   "source": [
    "#e. calculamos la población económicamente inactiva \n",
    "PEI=PET-PEA\n",
    "print(f'La población economicamente inactiva es: {int(PEI)}')"
   ]
  },
  {
   "cell_type": "code",
   "execution_count": 56,
   "id": "c166b6be",
   "metadata": {},
   "outputs": [
    {
     "name": "stdout",
     "output_type": "stream",
     "text": [
      "la tasa de ocupacion es:  58.43%\n"
     ]
    }
   ],
   "source": [
    "#f. calculamos la tasa de ocupación, es la relacion porcentual entre la poblacion ocupada y el numero de personas que integran la poblacion en edad de trabajar\n",
    "Total_Ocupados=int(df_ocupados['FEX_C18'].sum())\n",
    "TO=Total_Ocupados/PET\n",
    "print(f'la tasa de ocupacion es: {TO: .2%}')"
   ]
  },
  {
   "cell_type": "code",
   "execution_count": 57,
   "id": "13fd2a97",
   "metadata": {},
   "outputs": [
    {
     "name": "stdout",
     "output_type": "stream",
     "text": [
      "la tasa de desempleo es:  8.55%\n"
     ]
    }
   ],
   "source": [
    "#g. calculamos la tasa de desempleo, es la relacion porcentual entre el numero de personas que buscan empleo y el numero de personas que integran la fuerza laboral\n",
    "Total_Descupados=df_desocupados[df_desocupados['DSI']==1]['FEX_C18'].sum()\n",
    "TD=Total_Descupados/PEA\n",
    "print(f'la tasa de desempleo es: {TD: .2%}')"
   ]
  },
  {
   "cell_type": "markdown",
   "id": "8265c99f",
   "metadata": {},
   "source": [
    "2. Calcule las tasas de desempleo para hombres y mujeres en todos los departamentos de colombia, cuales son los departamentos con mayores y menores tasas de desempleo ?"
   ]
  },
  {
   "cell_type": "code",
   "execution_count": 58,
   "id": "67bf6a27",
   "metadata": {},
   "outputs": [
    {
     "name": "stdout",
     "output_type": "stream",
     "text": [
      "    DPTO     Sexo         TD\n",
      "0      5  Hombres   4.886691\n",
      "1      5  Mujeres   9.770415\n",
      "2      8  Hombres   6.301949\n",
      "3      8  Mujeres  10.232567\n",
      "4     11  Hombres   9.821256\n",
      "5     11  Mujeres   7.078481\n",
      "6     13  Hombres   4.791098\n",
      "7     13  Mujeres  12.028807\n",
      "8     15  Hombres   6.967972\n",
      "9     15  Mujeres   4.008697\n",
      "10    17  Hombres   5.583183\n",
      "11    17  Mujeres   7.677962\n",
      "12    18  Hombres   2.676220\n",
      "13    18  Mujeres  15.726909\n",
      "14    19  Hombres   3.390661\n",
      "15    19  Mujeres   5.146277\n",
      "16    20  Hombres   5.991357\n",
      "17    20  Mujeres  13.209651\n",
      "18    23  Hombres   5.832048\n",
      "19    23  Mujeres  19.837285\n"
     ]
    }
   ],
   "source": [
    "#haremos un merge para poder integrar la variable de genero P3271 a ocupados y desocupados agregando el DSI\n",
    "df_ocupados_genero = pd.merge(df_ocupados, df_cgsse[['DIRECTORIO','SECUENCIA_P','ORDEN','P3271']], on=['DIRECTORIO','SECUENCIA_P','ORDEN'], how='left')\n",
    "df_desocupados_genero = pd.merge(df_desocupados[df_desocupados[\"DSI\"]==1], df_cgsse[['DIRECTORIO','SECUENCIA_P','ORDEN','P3271']], on=['DIRECTORIO','SECUENCIA_P','ORDEN'], how='left')\n",
    "#agrupamos el departamento y el genero con el factor de expansión\n",
    "ocupados_genero= (df_ocupados_genero.groupby(['DPTO','P3271'])['FEX_C18'].sum().reset_index().rename(columns={'FEX_C18':'ocupados'}))\n",
    "desocupados_genero = (df_desocupados_genero.groupby(['DPTO','P3271'])['FEX_C18'].sum().reset_index().rename(columns={'FEX_C18':'desocupados'}))\n",
    "\n",
    "#calculamos la pea\n",
    "PEAG = pd.merge(ocupados_genero, desocupados_genero, on=['DPTO','P3271'], how='outer').fillna(0) #Fillna para rellenar los espacios vacios\n",
    "PEAG['PEA'] = PEAG['ocupados'] + PEAG['desocupados']\n",
    "\n",
    "#Tasa de desempleo\n",
    "PEAG['TD'] = PEAG['desocupados'] / PEAG['PEA'] * 100\n",
    "\n",
    "#Ahora poniendo etiquetas para cambiar los valores en la columna donde 1= Hombres 2=Mujeres\n",
    "PEAG['Sexo'] = PEAG['P3271'].map({1:'Hombres', 2:'Mujeres'})\n",
    "\n",
    "# Mostramos la tabla final\n",
    "print(PEAG[['DPTO','Sexo','TD']].head(20))"
   ]
  },
  {
   "cell_type": "code",
   "execution_count": 59,
   "id": "eab57106",
   "metadata": {},
   "outputs": [
    {
     "name": "stdout",
     "output_type": "stream",
     "text": [
      "Departamentos con MAYOR tasa de desempleo por sexo:\n",
      "    DPTO     Sexo         TD\n",
      "48    81  Hombres  18.057931\n",
      "49    81  Mujeres  31.660892\n",
      "Departamentos con MENOR tasa de desempleo por sexo:\n",
      "    DPTO     Sexo        TD\n",
      "56    91  Hombres  1.979606\n",
      "57    91  Mujeres  1.874288\n"
     ]
    }
   ],
   "source": [
    "TD_max = PEAG.loc[PEAG.groupby(\"Sexo\")[\"TD\"].idxmax()]\n",
    "TD_min = PEAG.loc[PEAG.groupby(\"Sexo\")[\"TD\"].idxmin()]\n",
    "\n",
    "print(\"Departamentos con MAYOR tasa de desempleo por sexo:\")\n",
    "print(TD_max[['DPTO','Sexo','TD']])\n",
    "\n",
    "print(\"Departamentos con MENOR tasa de desempleo por sexo:\")\n",
    "print(TD_min[['DPTO','Sexo','TD']])"
   ]
  },
  {
   "cell_type": "markdown",
   "id": "542c3ad9",
   "metadata": {},
   "source": [
    "3. Tomando en consideración únicamente los siguientes grupos de edad: \n",
    "\n",
    "-18 a 24\n",
    "-24 a 30\n",
    "-30 a 40\n",
    "-40 a 50 \n",
    "-60 en adelante \n",
    "\n",
    "Para cada uno de los departamentos, cual es el grupo de edad con mayor y menor tasa de desempleo? \n"
   ]
  },
  {
   "cell_type": "code",
   "execution_count": 61,
   "id": "e9ed90fc",
   "metadata": {},
   "outputs": [
    {
     "name": "stdout",
     "output_type": "stream",
     "text": [
      "Grupo con MAYOR tasa de desempleo por departamento:\n",
      "     DPTO grupo_edad         TD\n",
      "0       5      18-24  17.685962\n",
      "6       8      18-24  22.406918\n",
      "12     11      18-24  17.797990\n",
      "18     13      18-24  29.157386\n",
      "25     15      24-30  14.491221\n",
      "30     17      18-24   9.972584\n",
      "36     18      18-24  21.686963\n",
      "43     19      24-30   7.775308\n",
      "48     20      18-24  19.042303\n",
      "54     23      18-24  31.660884\n",
      "60     25      18-24  15.618810\n",
      "66     27      18-24  21.102675\n",
      "72     41      18-24  14.602874\n",
      "79     44      24-30  24.685637\n",
      "84     47      18-24  20.675536\n",
      "90     50      18-24  13.483416\n",
      "96     52      18-24  16.529172\n",
      "102    54      18-24  28.074930\n",
      "109    63      24-30  14.237924\n",
      "114    66      18-24  15.173556\n",
      "120    68      18-24  23.222696\n",
      "127    70      24-30  22.884184\n",
      "132    73      18-24  19.348020\n",
      "138    76      18-24  17.821703\n",
      "144    81      18-24  61.095429\n",
      "150    85      18-24  27.966955\n",
      "156    86      18-24  44.878068\n",
      "163    88      24-30  23.449477\n",
      "171    91      40-50   4.647341\n",
      "175    94      24-30  12.782858\n",
      "180    95      18-24  17.005129\n",
      "188    97      30-40   7.678632\n",
      "192    99      18-24  23.026006\n",
      "Grupo con MENOR tasa de desempleo por departamento:\n",
      "     DPTO grupo_edad         TD\n",
      "4       5        60+   1.199292\n",
      "9       8      40-50   4.082692\n",
      "16     11        60+   5.426223\n",
      "22     13        60+   2.222537\n",
      "28     15        60+   0.440514\n",
      "34     17        60+   4.060989\n",
      "40     18        60+   1.244864\n",
      "46     19        60+   0.539495\n",
      "52     20        60+   0.644501\n",
      "58     23        60+   4.322568\n",
      "64     25        60+   4.202708\n",
      "70     27        60+   6.162454\n",
      "76     41        60+   0.950585\n",
      "82     44        60+   0.466427\n",
      "88     47        60+   3.495022\n",
      "94     50        60+   3.972646\n",
      "100    52        60+   2.122516\n",
      "106    54        60+   4.730661\n",
      "111    63      40-50   6.506359\n",
      "118    66        60+   3.639861\n",
      "124    68        60+   4.564159\n",
      "130    70        60+   2.869353\n",
      "136    73        60+   9.458632\n",
      "142    76        60+   5.954849\n",
      "147    81      40-50  12.725505\n",
      "154    85        60+   0.000000\n",
      "158    86      30-40  10.837416\n",
      "165    88      40-50   6.261247\n",
      "168    91      18-24   0.000000\n",
      "178    94        60+   0.000000\n",
      "182    95      30-40   6.376562\n",
      "186    97      18-24   0.000000\n",
      "196    99        60+   0.000000\n"
     ]
    }
   ],
   "source": [
    "#separamos las edades por grupos\n",
    "def clasificar_edad(x):\n",
    "    if 18 <= x < 24:\n",
    "        return \"18-24\"\n",
    "    elif 24 <= x < 30:\n",
    "        return \"24-30\"\n",
    "    elif 30 <= x < 40:\n",
    "        return \"30-40\"\n",
    "    elif 40 <= x < 50:\n",
    "        return \"40-50\"\n",
    "    elif x >= 60:\n",
    "        return \"60+\"\n",
    "    else:\n",
    "        return \"Otros\"  # Para menores de 18 y personas entre 50-59 que no entran\n",
    "    \n",
    "#Vamos a crear una columna llamda grupo de edad para meter la nuevea funcion y aplicarla \n",
    "df_cgsse[\"grupo_edad\"] = df_cgsse[\"P6040\"].apply(clasificar_edad)\n",
    "\n",
    "#metemos nuestra nueva columnda del grupo edad\n",
    "df_desocupados_gen = pd.merge(df_desocupados[df_desocupados[\"DSI\"]==1],df_cgsse[[\"DIRECTORIO\",\"SECUENCIA_P\",\"ORDEN\",\"grupo_edad\"]], on=[\"DIRECTORIO\",\"SECUENCIA_P\",\"ORDEN\"],how=\"left\")\n",
    "desocupados_edad = (df_desocupados_gen.groupby([\"DPTO\",\"grupo_edad\"])[\"FEX_C18\"].sum().reset_index().rename(columns={\"FEX_C18\":\"desocupados\"}))\n",
    "\n",
    "#Hacemos nueva columna con edades determinadas\n",
    "df_ocupados_gen = pd.merge(df_ocupados,df_cgsse[[\"DIRECTORIO\",\"SECUENCIA_P\",\"ORDEN\",\"grupo_edad\"]], on=[\"DIRECTORIO\",\"SECUENCIA_P\",\"ORDEN\"],how=\"left\")\n",
    "ocupados_edad = (df_ocupados_gen.groupby([\"DPTO\",\"grupo_edad\"])[\"FEX_C18\"].sum().reset_index().rename(columns={\"FEX_C18\":\"ocupados\"}))\n",
    "\n",
    "#Ahora calculando la pea y la td\n",
    "pea_edad = pd.merge(ocupados_edad, desocupados_edad, on=[\"DPTO\",\"grupo_edad\"], how=\"outer\").fillna(0)\n",
    "pea_edad[\"PEA\"] = pea_edad[\"ocupados\"] + pea_edad[\"desocupados\"]\n",
    "pea_edad[\"TD\"] = pea_edad[\"desocupados\"] / pea_edad[\"PEA\"] * 100\n",
    "\n",
    "#Ahora filtamos solo para los grupos de nuestro interes \n",
    "pea_edad = pea_edad[pea_edad[\"grupo_edad\"].isin([\"18-24\",\"24-30\",\"30-40\",\"40-50\",\"60+\"])] \n",
    "\n",
    "#Ahora filtramos por departamento para mayores y menores con .idxmax e .idxmin\n",
    "mayores = pea_edad.loc[pea_edad.groupby(\"DPTO\")[\"TD\"].idxmax()]\n",
    "menores = pea_edad.loc[pea_edad.groupby(\"DPTO\")[\"TD\"].idxmin()]\n",
    "\n",
    "print(\"Grupo con MAYOR tasa de desempleo por departamento:\")\n",
    "print(mayores[[\"DPTO\",\"grupo_edad\",\"TD\"]])\n",
    "\n",
    "print(\"Grupo con MENOR tasa de desempleo por departamento:\")\n",
    "print(menores[[\"DPTO\",\"grupo_edad\",\"TD\"]])"
   ]
  },
  {
   "cell_type": "markdown",
   "id": "8ecb06b7",
   "metadata": {},
   "source": [
    "4. ¿Cuáles son los 3 departamentos con menor tasa de desempleo de mujeres entre los 18 y los 25 años ?"
   ]
  },
  {
   "cell_type": "code",
   "execution_count": null,
   "id": "413609af",
   "metadata": {},
   "outputs": [
    {
     "name": "stdout",
     "output_type": "stream",
     "text": [
      "los tres departamentos con menor tasa de desempleo en mujeres entre 18 y 24 años son:\n",
      "    DPTO      ocupadas   desocupadas            PEA         TD\n",
      "30    95   1218.212804    649.874589    1868.087394  34.788233\n",
      "10    25  98335.776355  57867.376219  156203.152574  37.046228\n",
      "32    99    510.425025    365.704182     876.129207  41.740896\n"
     ]
    }
   ],
   "source": [
    "#Vamos a filtrar para las mujeres entre 18 y 25 años\n",
    "# Paso 1: crear grupos de edad\n",
    "df_cgsse[\"grupo_edad\"] = df_cgsse[\"P6040\"].apply(clasificar_edad)\n",
    "\n",
    "#usamos el df_ocupados_gen, ya creado anteriormente pero poniendo el P3271\n",
    "\n",
    "df_ocupados_gen= pd.merge(df_ocupados,df_cgsse[[\"DIRECTORIO\",\"SECUENCIA_P\",\"ORDEN\",\"P3271\",\"grupo_edad\"]], on=[\"DIRECTORIO\",\"SECUENCIA_P\",\"ORDEN\"],how=\"left\")\n",
    "ocupados_edad=(df_ocupados_gen.groupby([\"DPTO\",\"P3271\"])[\"FEX_C18\"].sum().reset_index().rename(columns={\"FEX_C18\":\"ocupados\"}))\n",
    "\n",
    "#Lo mismo con los desocupados\n",
    "\n",
    "df_desocupados_gen = pd.merge(df_desocupados,df_cgsse[[\"DIRECTORIO\",\"SECUENCIA_P\",\"ORDEN\",\"P3271\",\"grupo_edad\"]], on=[\"DIRECTORIO\",\"SECUENCIA_P\",\"ORDEN\"],how=\"left\")\n",
    "ocupados_edad = (df_ocupados_gen.groupby([\"DPTO\",\"P3271\"])[\"FEX_C18\"].sum().reset_index().rename(columns={\"FEX_C18\":\"ocupados\"}))\n",
    "\n",
    "#Aqui ya aplicamos el filtro\n",
    "mujeres_oc= df_ocupados_gen[(df_ocupados_gen[\"P3271\"]==2) & (df_ocupados_gen[\"grupo_edad\"]==\"18-24\")]\n",
    "mujeres_des=df_desocupados_gen[(df_desocupados_gen[\"P3271\"]==2) & (df_desocupados_gen[\"grupo_edad\"]==\"18-24\")]\n",
    "\n",
    "#Agrupamos por departamento\n",
    "ocupadas = mujeres_oc.groupby(\"DPTO\")[\"FEX_C18\"].sum().reset_index().rename(columns={\"FEX_C18\":\"ocupadas\"})\n",
    "desocupadas = mujeres_des.groupby(\"DPTO\")[\"FEX_C18\"].sum().reset_index().rename(columns={\"FEX_C18\":\"desocupadas\"})\n",
    "\n",
    "#Ahora con esto calculamos la pea y el td\n",
    "pea = pd.merge(ocupadas, desocupadas, on=\"DPTO\", how=\"outer\").fillna(0)\n",
    "pea[\"PEA\"] = pea[\"ocupadas\"] + pea[\"desocupadas\"]\n",
    "pea[\"TD\"] = pea[\"desocupadas\"] / pea[\"PEA\"] * 100\n",
    "\n",
    "#Y mostramos los tres de menor valor\n",
    "menorTD= pea.sort_values(\"TD\").head(3)\n",
    "print('los tres departamentos con menor tasa de desempleo en mujeres entre 18 y 24 años son:')\n",
    "print(menorTD)\n"
   ]
  },
  {
   "cell_type": "markdown",
   "id": "58be0fbc",
   "metadata": {},
   "source": [
    "5. Calcule el promedio de ingresos laborales  de las personas residentes en los departamentos de Risaralda, Caldas , Quindío, Antioquia y Valle del Cauca."
   ]
  },
  {
   "cell_type": "code",
   "execution_count": null,
   "id": "2d7cac59",
   "metadata": {},
   "outputs": [
    {
     "name": "stdout",
     "output_type": "stream",
     "text": [
      "Los ingresos promedio de los departamentos son:\n",
      "      Departamento Ingreso_promedio\n",
      "0        Antioquia        2,090,819\n",
      "1           Caldas        1,958,683\n",
      "2          Quindío        1,637,336\n",
      "3        Risaralda        1,621,205\n",
      "4  Valle del Cauca        1,698,392\n"
     ]
    }
   ],
   "source": [
    "# Filtrar solo los departamentos de interés, 66=Risaralda, 17=Caldas, 63=Quindío, 5=Antioquia, 76=Valle del CaucA\n",
    "deptos_interes = [66, 17, 63, 5, 76]  \n",
    "\n",
    "df_ingresos = df_ocupados[df_ocupados[\"DPTO\"].isin(deptos_interes)]\n",
    "\n",
    "# Aqui calculamos el promedio ponderado de ingresos con la variable INGLABO\n",
    "promedios_ingresos = (\n",
    "    df_ingresos.groupby(\"DPTO\")[[\"INGLABO\",\"FEX_C18\"]]\n",
    "    .apply(lambda x: (x[\"INGLABO\"] * x[\"FEX_C18\"]).sum() / x[\"FEX_C18\"].sum())\n",
    "    .reset_index(name=\"Ingreso_promedio\")\n",
    ")\n",
    "\n",
    "#Vamos a cambiar los numeros cientificos por numero entero\n",
    "promedios_ingresos[\"Ingreso_promedio\"] = promedios_ingresos[\"Ingreso_promedio\"].map(\"{:,.0f}\".format)\n",
    "\n",
    "# Reemplazar códigos de departamentos por nombres sus nombres \n",
    "mapa_dptos = {66:\"Risaralda\", 17:\"Caldas\", 63:\"Quindío\", 5:\"Antioquia\", 76:\"Valle del Cauca\"}\n",
    "promedios_ingresos[\"Departamento\"] = promedios_ingresos[\"DPTO\"].map(mapa_dptos)\n",
    "\n",
    "# Reordenar columnas\n",
    "promedios_ingresos = promedios_ingresos[[\"Departamento\",\"Ingreso_promedio\"]]\n",
    "\n",
    "print('Los ingresos promedio de los departamentos son:')\n",
    "print(promedios_ingresos)"
   ]
  },
  {
   "cell_type": "markdown",
   "id": "aaedd79f",
   "metadata": {},
   "source": [
    "6. Para los mismos departamentos del punto anterior, calcule el promedio de ingresos laborales de hombres y mujeres en los siguientes rangos de edad : \n",
    "-18 a 24\n",
    "-24 a 30\n",
    "-30 a 40\n",
    "-40 a 50 \n",
    "-60 en adelante \n"
   ]
  },
  {
   "cell_type": "code",
   "execution_count": null,
   "id": "91a7724f",
   "metadata": {},
   "outputs": [
    {
     "name": "stdout",
     "output_type": "stream",
     "text": [
      "       Departamento grupo_edad Ingreso_promedio\n",
      "0         Antioquia      18-24        1,364,005\n",
      "1         Antioquia      24-30        1,828,144\n",
      "2         Antioquia      30-40        2,159,206\n",
      "3         Antioquia      40-50        2,771,747\n",
      "4         Antioquia        60+        1,738,620\n",
      "5         Antioquia      Otros        2,554,671\n",
      "6         Antioquia      18-24        1,418,639\n",
      "7         Antioquia      24-30        1,837,916\n",
      "8         Antioquia      30-40        2,291,801\n",
      "9         Antioquia      40-50        2,111,094\n",
      "10        Antioquia        60+        1,510,449\n",
      "11        Antioquia      Otros        1,790,046\n",
      "12           Caldas      18-24        2,216,063\n",
      "13           Caldas      24-30        1,754,677\n",
      "14           Caldas      30-40        1,762,301\n",
      "15           Caldas      40-50        2,470,039\n",
      "16           Caldas        60+        2,309,864\n",
      "17           Caldas      Otros        1,669,417\n",
      "18           Caldas      18-24        1,133,456\n",
      "19           Caldas      24-30        1,832,716\n",
      "20           Caldas      30-40        1,990,588\n",
      "21           Caldas      40-50        2,186,629\n",
      "22           Caldas        60+        1,669,178\n",
      "23           Caldas      Otros        1,928,922\n",
      "24          Quindío      18-24        1,239,935\n",
      "25          Quindío      24-30        1,557,871\n",
      "26          Quindío      30-40        1,809,207\n",
      "27          Quindío      40-50        1,839,862\n",
      "28          Quindío        60+        1,410,973\n",
      "29          Quindío      Otros        1,640,317\n",
      "30          Quindío      18-24        1,172,009\n",
      "31          Quindío      24-30        1,641,198\n",
      "32          Quindío      30-40        1,855,492\n",
      "33          Quindío      40-50        1,793,375\n",
      "34          Quindío        60+        1,067,661\n",
      "35          Quindío      Otros        1,610,733\n",
      "36        Risaralda      18-24        1,480,345\n",
      "37        Risaralda      24-30        1,819,399\n",
      "38        Risaralda      30-40        1,860,253\n",
      "39        Risaralda      40-50        1,849,293\n",
      "40        Risaralda        60+        1,268,579\n",
      "41        Risaralda      Otros        1,773,538\n",
      "42        Risaralda      18-24        1,287,762\n",
      "43        Risaralda      24-30        1,536,785\n",
      "44        Risaralda      30-40        1,520,825\n",
      "45        Risaralda      40-50        1,774,626\n",
      "46        Risaralda        60+          763,308\n",
      "47        Risaralda      Otros        1,480,532\n",
      "48  Valle del Cauca      18-24        1,358,696\n",
      "49  Valle del Cauca      24-30        1,788,780\n",
      "50  Valle del Cauca      30-40        1,872,074\n",
      "51  Valle del Cauca      40-50        2,243,409\n",
      "52  Valle del Cauca        60+        1,358,746\n",
      "53  Valle del Cauca      Otros        1,886,360\n",
      "54  Valle del Cauca      18-24        1,061,335\n",
      "55  Valle del Cauca      24-30        1,720,800\n",
      "56  Valle del Cauca      30-40        1,841,891\n",
      "57  Valle del Cauca      40-50        1,767,989\n",
      "58  Valle del Cauca        60+          717,413\n",
      "59  Valle del Cauca      Otros        1,454,820\n"
     ]
    }
   ],
   "source": [
    "#usamos un dataframe que contenga el genero y los departamentos \n",
    "#Vamos a aplicar un dataframe solo con los deptos de interes\n",
    "GD= df_ocupados_gen[df_ocupados_gen[\"DPTO\"].isin(deptos_interes)]\n",
    "\n",
    "# Aqui calculamos el promedio ponderado de ingresos con la variable INGLABO en los departamentos de interes\n",
    "promedios_ingresos_dtos = (\n",
    "    GD.groupby([\"DPTO\",\"P3271\",\"grupo_edad\"])[[\"INGLABO\",\"FEX_C18\"]]\n",
    "      .apply(lambda g: (g[\"INGLABO\"] * g[\"FEX_C18\"]).sum() / g[\"FEX_C18\"].sum())\n",
    "      .reset_index(name=\"Ingreso_promedio\")\n",
    ")\n",
    "\n",
    "\n",
    "#Vamos a cambiar los numeros cientificos por numero entero\n",
    "promedios_ingresos_dtos[\"Ingreso_promedio\"] = promedios_ingresos_dtos[\"Ingreso_promedio\"].map(\"{:,.0f}\".format)\n",
    "\n",
    "# Reemplazar códigos de departamentos por nombres\n",
    "mapa_dptos = {66:\"Risaralda\", 17:\"Caldas\", 63:\"Quindío\", 5:\"Antioquia\", 76:\"Valle del Cauca\"}\n",
    "promedios_ingresos_dtos[\"Departamento\"] = promedios_ingresos_dtos[\"DPTO\"].map(mapa_dptos)\n",
    "\n",
    "# Reordenar columnas\n",
    "promedios_ingresos_dtos = promedios_ingresos_dtos[[\"Departamento\",\"grupo_edad\",\"Ingreso_promedio\"]]\n",
    "\n",
    "print(promedios_ingresos_dtos)"
   ]
  },
  {
   "cell_type": "markdown",
   "id": "67f3926c",
   "metadata": {},
   "source": [
    "7. ¿Cuáles son los oficios con mayores promedios salariales a nivel nacional en general  ? \n"
   ]
  },
  {
   "cell_type": "code",
   "execution_count": null,
   "id": "52750404",
   "metadata": {},
   "outputs": [
    {
     "data": {
      "text/html": [
       "<div>\n",
       "<style scoped>\n",
       "    .dataframe tbody tr th:only-of-type {\n",
       "        vertical-align: middle;\n",
       "    }\n",
       "\n",
       "    .dataframe tbody tr th {\n",
       "        vertical-align: top;\n",
       "    }\n",
       "\n",
       "    .dataframe thead th {\n",
       "        text-align: right;\n",
       "    }\n",
       "</style>\n",
       "<table border=\"1\" class=\"dataframe\">\n",
       "  <thead>\n",
       "    <tr style=\"text-align: right;\">\n",
       "      <th></th>\n",
       "      <th>OFICIO_C8</th>\n",
       "      <th>INGLABO</th>\n",
       "    </tr>\n",
       "  </thead>\n",
       "  <tbody>\n",
       "    <tr>\n",
       "      <th>0</th>\n",
       "      <td>6111</td>\n",
       "      <td>950000.0</td>\n",
       "    </tr>\n",
       "    <tr>\n",
       "      <th>2</th>\n",
       "      <td>6114</td>\n",
       "      <td>700000.0</td>\n",
       "    </tr>\n",
       "    <tr>\n",
       "      <th>3</th>\n",
       "      <td>6122</td>\n",
       "      <td>2000000.0</td>\n",
       "    </tr>\n",
       "    <tr>\n",
       "      <th>4</th>\n",
       "      <td>6112</td>\n",
       "      <td>600000.0</td>\n",
       "    </tr>\n",
       "    <tr>\n",
       "      <th>5</th>\n",
       "      <td>6111</td>\n",
       "      <td>1300000.0</td>\n",
       "    </tr>\n",
       "  </tbody>\n",
       "</table>\n",
       "</div>"
      ],
      "text/plain": [
       "   OFICIO_C8    INGLABO\n",
       "0       6111   950000.0\n",
       "2       6114   700000.0\n",
       "3       6122  2000000.0\n",
       "4       6112   600000.0\n",
       "5       6111  1300000.0"
      ]
     },
     "metadata": {},
     "output_type": "display_data"
    },
    {
     "data": {
      "text/plain": [
       "OFICIO_C8\n",
       "2267    1.481429e+07\n",
       "2612    1.247000e+07\n",
       "2523    1.100000e+07\n",
       "2212    1.044087e+07\n",
       "2146    1.005000e+07\n",
       "Name: INGLABO, dtype: float64"
      ]
     },
     "metadata": {},
     "output_type": "display_data"
    },
    {
     "name": "stdout",
     "output_type": "stream",
     "text": [
      "Requirement already satisfied: matplotlib in /workspaces/salome/.venv/lib/python3.12/site-packages (3.10.6)\n",
      "Requirement already satisfied: contourpy>=1.0.1 in /workspaces/salome/.venv/lib/python3.12/site-packages (from matplotlib) (1.3.3)\n",
      "Requirement already satisfied: cycler>=0.10 in /workspaces/salome/.venv/lib/python3.12/site-packages (from matplotlib) (0.12.1)\n",
      "Requirement already satisfied: fonttools>=4.22.0 in /workspaces/salome/.venv/lib/python3.12/site-packages (from matplotlib) (4.59.2)\n",
      "Requirement already satisfied: kiwisolver>=1.3.1 in /workspaces/salome/.venv/lib/python3.12/site-packages (from matplotlib) (1.4.9)\n",
      "Requirement already satisfied: numpy>=1.23 in /workspaces/salome/.venv/lib/python3.12/site-packages (from matplotlib) (2.3.2)\n",
      "Requirement already satisfied: packaging>=20.0 in /workspaces/salome/.venv/lib/python3.12/site-packages (from matplotlib) (25.0)\n",
      "Requirement already satisfied: pillow>=8 in /workspaces/salome/.venv/lib/python3.12/site-packages (from matplotlib) (11.3.0)\n",
      "Requirement already satisfied: pyparsing>=2.3.1 in /workspaces/salome/.venv/lib/python3.12/site-packages (from matplotlib) (3.2.3)\n",
      "Requirement already satisfied: python-dateutil>=2.7 in /workspaces/salome/.venv/lib/python3.12/site-packages (from matplotlib) (2.9.0.post0)\n",
      "Requirement already satisfied: six>=1.5 in /workspaces/salome/.venv/lib/python3.12/site-packages (from python-dateutil>=2.7->matplotlib) (1.17.0)\n",
      "Requirement already satisfied: seaborn in /workspaces/salome/.venv/lib/python3.12/site-packages (0.13.2)\n",
      "Requirement already satisfied: numpy!=1.24.0,>=1.20 in /workspaces/salome/.venv/lib/python3.12/site-packages (from seaborn) (2.3.2)\n",
      "Requirement already satisfied: pandas>=1.2 in /workspaces/salome/.venv/lib/python3.12/site-packages (from seaborn) (2.3.1)\n",
      "Requirement already satisfied: matplotlib!=3.6.1,>=3.4 in /workspaces/salome/.venv/lib/python3.12/site-packages (from seaborn) (3.10.6)\n",
      "Requirement already satisfied: contourpy>=1.0.1 in /workspaces/salome/.venv/lib/python3.12/site-packages (from matplotlib!=3.6.1,>=3.4->seaborn) (1.3.3)\n",
      "Requirement already satisfied: cycler>=0.10 in /workspaces/salome/.venv/lib/python3.12/site-packages (from matplotlib!=3.6.1,>=3.4->seaborn) (0.12.1)\n",
      "Requirement already satisfied: fonttools>=4.22.0 in /workspaces/salome/.venv/lib/python3.12/site-packages (from matplotlib!=3.6.1,>=3.4->seaborn) (4.59.2)\n",
      "Requirement already satisfied: kiwisolver>=1.3.1 in /workspaces/salome/.venv/lib/python3.12/site-packages (from matplotlib!=3.6.1,>=3.4->seaborn) (1.4.9)\n",
      "Requirement already satisfied: packaging>=20.0 in /workspaces/salome/.venv/lib/python3.12/site-packages (from matplotlib!=3.6.1,>=3.4->seaborn) (25.0)\n",
      "Requirement already satisfied: pillow>=8 in /workspaces/salome/.venv/lib/python3.12/site-packages (from matplotlib!=3.6.1,>=3.4->seaborn) (11.3.0)\n",
      "Requirement already satisfied: pyparsing>=2.3.1 in /workspaces/salome/.venv/lib/python3.12/site-packages (from matplotlib!=3.6.1,>=3.4->seaborn) (3.2.3)\n",
      "Requirement already satisfied: python-dateutil>=2.7 in /workspaces/salome/.venv/lib/python3.12/site-packages (from matplotlib!=3.6.1,>=3.4->seaborn) (2.9.0.post0)\n",
      "Requirement already satisfied: pytz>=2020.1 in /workspaces/salome/.venv/lib/python3.12/site-packages (from pandas>=1.2->seaborn) (2025.2)\n",
      "Requirement already satisfied: tzdata>=2022.7 in /workspaces/salome/.venv/lib/python3.12/site-packages (from pandas>=1.2->seaborn) (2025.2)\n",
      "Requirement already satisfied: six>=1.5 in /workspaces/salome/.venv/lib/python3.12/site-packages (from python-dateutil>=2.7->matplotlib!=3.6.1,>=3.4->seaborn) (1.17.0)\n"
     ]
    },
    {
     "name": "stderr",
     "output_type": "stream",
     "text": [
      "/tmp/ipykernel_62204/3957710701.py:19: FutureWarning: \n",
      "\n",
      "Passing `palette` without assigning `hue` is deprecated and will be removed in v0.14.0. Assign the `x` variable to `hue` and set `legend=False` for the same effect.\n",
      "\n",
      "  sns.barplot(x=top_n_salaries.index, y=top_n_salaries.values, palette='viridis')\n"
     ]
    },
    {
     "data": {
      "image/png": "[encoded data removed]",
      "text/plain": [
       "<Figure size 1200x600 with 1 Axes>"
      ]
     },
     "metadata": {},
     "output_type": "display_data"
    },
    {
     "name": "stdout",
     "output_type": "stream",
     "text": [
      "Top 10 Oficios por promedio salarial:\n"
     ]
    },
    {
     "data": {
      "text/plain": [
       "OFICIO_C8\n",
       "2267    1.481429e+07\n",
       "2612    1.247000e+07\n",
       "2523    1.100000e+07\n",
       "2212    1.044087e+07\n",
       "2146    1.005000e+07\n",
       "1349    1.002000e+07\n",
       "1120    8.209543e+06\n",
       "1219    7.826341e+06\n",
       "1211    7.473517e+06\n",
       "1114    6.976778e+06\n",
       "Name: INGLABO, dtype: float64"
      ]
     },
     "metadata": {},
     "output_type": "display_data"
    }
   ],
   "source": [
    "df_salario_oficio = df_ocupados[['OFICIO_C8', 'INGLABO']]\n",
    "df_salario_oficio = df_salario_oficio.dropna(subset=['INGLABO'])\n",
    "df_salario_oficio = df_salario_oficio[df_salario_oficio['INGLABO'] != 0]\n",
    "display(df_salario_oficio.head())\n",
    "promedio_salarial_por_oficio = df_salario_oficio.groupby('OFICIO_C8')['INGLABO'].mean()\n",
    "promedio_salarial_oficio_ordenado = promedio_salarial_por_oficio.sort_values(ascending=False)\n",
    "display(promedio_salarial_oficio_ordenado.head())\n",
    "\n",
    "#Instalamos matplotlib y seaborn para la visualizacion\n",
    "! pip install matplotlib\n",
    "! pip install seaborn\n",
    "import matplotlib.pyplot as plt\n",
    "import seaborn as sns\n",
    "\n",
    "N = 10\n",
    "top_n_salaries = promedio_salarial_oficio_ordenado.head(N)\n",
    "\n",
    "plt.figure(figsize=(12, 6))\n",
    "sns.barplot(x=top_n_salaries.index, y=top_n_salaries.values, palette='viridis')\n",
    "plt.title(f'Top {N} Oficios by Average Salary')\n",
    "plt.xlabel('Código de Oficio (OFICIO_C8)')\n",
    "plt.ylabel('Promedio Salarial (INGLABO)')\n",
    "plt.xticks(rotation=45, ha='right')\n",
    "plt.tight_layout()\n",
    "plt.show()\n",
    "print(\"Top {} Oficios por promedio salarial:\".format(N))\n",
    "display(top_n_salaries)"
   ]
  },
  {
   "cell_type": "code",
   "execution_count": null,
   "id": "b95459e9",
   "metadata": {},
   "outputs": [],
   "source": []
  }
 ],
 "metadata": {
  "kernelspec": {
   "display_name": ".venv",
   "language": "python",
   "name": "python3"
  },
  "language_info": {
   "codemirror_mode": {
    "name": "ipython",
    "version": 3
   },
   "file_extension": ".py",
   "mimetype": "text/x-python",
   "name": "python",
   "nbconvert_exporter": "python",
   "pygments_lexer": "ipython3",
   "version": "3.12.1"
  }
 },
 "nbformat": 4,
 "nbformat_minor": 5
}
