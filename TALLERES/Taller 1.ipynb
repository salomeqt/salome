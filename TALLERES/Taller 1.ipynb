{
 "cells": [
  {
   "cell_type": "code",
   "execution_count": 1,
   "id": "db9e23b6",
   "metadata": {},
   "outputs": [],
   "source": [
    "#importo librerias \n",
    "import pandas as pd\n",
    "import numpy as np"
   ]
  },
  {
   "cell_type": "code",
   "execution_count": 2,
   "id": "14805294",
   "metadata": {},
   "outputs": [],
   "source": [
    "#leyendo los datos de la geih \n",
    "df_cgsse = pd.read_csv('https://github.com/niconomist98/DataAnalyticsUQ/raw/refs/heads/main/Datos/GEIH2025/cgsse.CSV', encoding='latin', sep= ';')"
   ]
  },
  {
   "cell_type": "code",
   "execution_count": 3,
   "id": "03775e66",
   "metadata": {},
   "outputs": [
    {
     "data": {
      "text/html": [
       "<div>\n",
       "<style scoped>\n",
       "    .dataframe tbody tr th:only-of-type {\n",
       "        vertical-align: middle;\n",
       "    }\n",
       "\n",
       "    .dataframe tbody tr th {\n",
       "        vertical-align: top;\n",
       "    }\n",
       "\n",
       "    .dataframe thead th {\n",
       "        text-align: right;\n",
       "    }\n",
       "</style>\n",
       "<table border=\"1\" class=\"dataframe\">\n",
       "  <thead>\n",
       "    <tr style=\"text-align: right;\">\n",
       "      <th></th>\n",
       "      <th>PERIODO</th>\n",
       "      <th>MES</th>\n",
       "      <th>PER</th>\n",
       "      <th>DIRECTORIO</th>\n",
       "      <th>SECUENCIA_P</th>\n",
       "      <th>ORDEN</th>\n",
       "      <th>HOGAR</th>\n",
       "      <th>REGIS</th>\n",
       "      <th>AREA</th>\n",
       "      <th>CLASE</th>\n",
       "      <th>...</th>\n",
       "      <th>P6170</th>\n",
       "      <th>P3041</th>\n",
       "      <th>P3042</th>\n",
       "      <th>P3042S1</th>\n",
       "      <th>P3042S2</th>\n",
       "      <th>P3043</th>\n",
       "      <th>P3043S1</th>\n",
       "      <th>P3038</th>\n",
       "      <th>P3039</th>\n",
       "      <th>POB_MAY18</th>\n",
       "    </tr>\n",
       "  </thead>\n",
       "  <tbody>\n",
       "    <tr>\n",
       "      <th>0</th>\n",
       "      <td>20250626</td>\n",
       "      <td>6</td>\n",
       "      <td>2025</td>\n",
       "      <td>8238974</td>\n",
       "      <td>1</td>\n",
       "      <td>1</td>\n",
       "      <td>1</td>\n",
       "      <td>10</td>\n",
       "      <td>NaN</td>\n",
       "      <td>2</td>\n",
       "      <td>...</td>\n",
       "      <td>2.0</td>\n",
       "      <td>NaN</td>\n",
       "      <td>5.0</td>\n",
       "      <td>2.0</td>\n",
       "      <td>NaN</td>\n",
       "      <td>2.0</td>\n",
       "      <td>NaN</td>\n",
       "      <td>1.0</td>\n",
       "      <td>2.0</td>\n",
       "      <td>1.0</td>\n",
       "    </tr>\n",
       "    <tr>\n",
       "      <th>1</th>\n",
       "      <td>20250626</td>\n",
       "      <td>6</td>\n",
       "      <td>2025</td>\n",
       "      <td>8238974</td>\n",
       "      <td>1</td>\n",
       "      <td>2</td>\n",
       "      <td>1</td>\n",
       "      <td>10</td>\n",
       "      <td>NaN</td>\n",
       "      <td>2</td>\n",
       "      <td>...</td>\n",
       "      <td>2.0</td>\n",
       "      <td>NaN</td>\n",
       "      <td>5.0</td>\n",
       "      <td>1.0</td>\n",
       "      <td>NaN</td>\n",
       "      <td>1.0</td>\n",
       "      <td>NaN</td>\n",
       "      <td>2.0</td>\n",
       "      <td>1.0</td>\n",
       "      <td>1.0</td>\n",
       "    </tr>\n",
       "    <tr>\n",
       "      <th>2</th>\n",
       "      <td>20250626</td>\n",
       "      <td>6</td>\n",
       "      <td>2025</td>\n",
       "      <td>8238975</td>\n",
       "      <td>1</td>\n",
       "      <td>1</td>\n",
       "      <td>1</td>\n",
       "      <td>10</td>\n",
       "      <td>NaN</td>\n",
       "      <td>2</td>\n",
       "      <td>...</td>\n",
       "      <td>2.0</td>\n",
       "      <td>NaN</td>\n",
       "      <td>3.0</td>\n",
       "      <td>3.0</td>\n",
       "      <td>NaN</td>\n",
       "      <td>NaN</td>\n",
       "      <td>NaN</td>\n",
       "      <td>2.0</td>\n",
       "      <td>1.0</td>\n",
       "      <td>1.0</td>\n",
       "    </tr>\n",
       "    <tr>\n",
       "      <th>3</th>\n",
       "      <td>20250626</td>\n",
       "      <td>6</td>\n",
       "      <td>2025</td>\n",
       "      <td>8238975</td>\n",
       "      <td>1</td>\n",
       "      <td>2</td>\n",
       "      <td>1</td>\n",
       "      <td>10</td>\n",
       "      <td>NaN</td>\n",
       "      <td>2</td>\n",
       "      <td>...</td>\n",
       "      <td>2.0</td>\n",
       "      <td>NaN</td>\n",
       "      <td>1.0</td>\n",
       "      <td>0.0</td>\n",
       "      <td>NaN</td>\n",
       "      <td>NaN</td>\n",
       "      <td>NaN</td>\n",
       "      <td>2.0</td>\n",
       "      <td>1.0</td>\n",
       "      <td>1.0</td>\n",
       "    </tr>\n",
       "    <tr>\n",
       "      <th>4</th>\n",
       "      <td>20250626</td>\n",
       "      <td>6</td>\n",
       "      <td>2025</td>\n",
       "      <td>8238975</td>\n",
       "      <td>1</td>\n",
       "      <td>3</td>\n",
       "      <td>1</td>\n",
       "      <td>10</td>\n",
       "      <td>NaN</td>\n",
       "      <td>2</td>\n",
       "      <td>...</td>\n",
       "      <td>2.0</td>\n",
       "      <td>NaN</td>\n",
       "      <td>1.0</td>\n",
       "      <td>0.0</td>\n",
       "      <td>NaN</td>\n",
       "      <td>NaN</td>\n",
       "      <td>NaN</td>\n",
       "      <td>1.0</td>\n",
       "      <td>2.0</td>\n",
       "      <td>1.0</td>\n",
       "    </tr>\n",
       "    <tr>\n",
       "      <th>...</th>\n",
       "      <td>...</td>\n",
       "      <td>...</td>\n",
       "      <td>...</td>\n",
       "      <td>...</td>\n",
       "      <td>...</td>\n",
       "      <td>...</td>\n",
       "      <td>...</td>\n",
       "      <td>...</td>\n",
       "      <td>...</td>\n",
       "      <td>...</td>\n",
       "      <td>...</td>\n",
       "      <td>...</td>\n",
       "      <td>...</td>\n",
       "      <td>...</td>\n",
       "      <td>...</td>\n",
       "      <td>...</td>\n",
       "      <td>...</td>\n",
       "      <td>...</td>\n",
       "      <td>...</td>\n",
       "      <td>...</td>\n",
       "      <td>...</td>\n",
       "    </tr>\n",
       "    <tr>\n",
       "      <th>67851</th>\n",
       "      <td>20250626</td>\n",
       "      <td>6</td>\n",
       "      <td>2025</td>\n",
       "      <td>8283060</td>\n",
       "      <td>1</td>\n",
       "      <td>1</td>\n",
       "      <td>1</td>\n",
       "      <td>10</td>\n",
       "      <td>88.0</td>\n",
       "      <td>1</td>\n",
       "      <td>...</td>\n",
       "      <td>2.0</td>\n",
       "      <td>NaN</td>\n",
       "      <td>5.0</td>\n",
       "      <td>2.0</td>\n",
       "      <td>NaN</td>\n",
       "      <td>2.0</td>\n",
       "      <td>NaN</td>\n",
       "      <td>1.0</td>\n",
       "      <td>2.0</td>\n",
       "      <td>1.0</td>\n",
       "    </tr>\n",
       "    <tr>\n",
       "      <th>67852</th>\n",
       "      <td>20250626</td>\n",
       "      <td>6</td>\n",
       "      <td>2025</td>\n",
       "      <td>8283060</td>\n",
       "      <td>1</td>\n",
       "      <td>2</td>\n",
       "      <td>1</td>\n",
       "      <td>10</td>\n",
       "      <td>88.0</td>\n",
       "      <td>1</td>\n",
       "      <td>...</td>\n",
       "      <td>2.0</td>\n",
       "      <td>NaN</td>\n",
       "      <td>5.0</td>\n",
       "      <td>2.0</td>\n",
       "      <td>NaN</td>\n",
       "      <td>2.0</td>\n",
       "      <td>NaN</td>\n",
       "      <td>2.0</td>\n",
       "      <td>1.0</td>\n",
       "      <td>1.0</td>\n",
       "    </tr>\n",
       "    <tr>\n",
       "      <th>67853</th>\n",
       "      <td>20250626</td>\n",
       "      <td>6</td>\n",
       "      <td>2025</td>\n",
       "      <td>8283062</td>\n",
       "      <td>1</td>\n",
       "      <td>1</td>\n",
       "      <td>1</td>\n",
       "      <td>10</td>\n",
       "      <td>94.0</td>\n",
       "      <td>1</td>\n",
       "      <td>...</td>\n",
       "      <td>2.0</td>\n",
       "      <td>NaN</td>\n",
       "      <td>3.0</td>\n",
       "      <td>3.0</td>\n",
       "      <td>NaN</td>\n",
       "      <td>NaN</td>\n",
       "      <td>NaN</td>\n",
       "      <td>2.0</td>\n",
       "      <td>1.0</td>\n",
       "      <td>1.0</td>\n",
       "    </tr>\n",
       "    <tr>\n",
       "      <th>67854</th>\n",
       "      <td>20250626</td>\n",
       "      <td>6</td>\n",
       "      <td>2025</td>\n",
       "      <td>8283062</td>\n",
       "      <td>1</td>\n",
       "      <td>2</td>\n",
       "      <td>1</td>\n",
       "      <td>10</td>\n",
       "      <td>94.0</td>\n",
       "      <td>1</td>\n",
       "      <td>...</td>\n",
       "      <td>2.0</td>\n",
       "      <td>NaN</td>\n",
       "      <td>3.0</td>\n",
       "      <td>2.0</td>\n",
       "      <td>NaN</td>\n",
       "      <td>NaN</td>\n",
       "      <td>NaN</td>\n",
       "      <td>1.0</td>\n",
       "      <td>2.0</td>\n",
       "      <td>1.0</td>\n",
       "    </tr>\n",
       "    <tr>\n",
       "      <th>67855</th>\n",
       "      <td>20250626</td>\n",
       "      <td>6</td>\n",
       "      <td>2025</td>\n",
       "      <td>8283062</td>\n",
       "      <td>1</td>\n",
       "      <td>3</td>\n",
       "      <td>1</td>\n",
       "      <td>10</td>\n",
       "      <td>94.0</td>\n",
       "      <td>1</td>\n",
       "      <td>...</td>\n",
       "      <td>2.0</td>\n",
       "      <td>NaN</td>\n",
       "      <td>5.0</td>\n",
       "      <td>2.0</td>\n",
       "      <td>NaN</td>\n",
       "      <td>2.0</td>\n",
       "      <td>NaN</td>\n",
       "      <td>1.0</td>\n",
       "      <td>2.0</td>\n",
       "      <td>1.0</td>\n",
       "    </tr>\n",
       "  </tbody>\n",
       "</table>\n",
       "<p>67856 rows × 55 columns</p>\n",
       "</div>"
      ],
      "text/plain": [
       "        PERIODO  MES   PER  DIRECTORIO  SECUENCIA_P  ORDEN  HOGAR  REGIS  \\\n",
       "0      20250626    6  2025     8238974            1      1      1     10   \n",
       "1      20250626    6  2025     8238974            1      2      1     10   \n",
       "2      20250626    6  2025     8238975            1      1      1     10   \n",
       "3      20250626    6  2025     8238975            1      2      1     10   \n",
       "4      20250626    6  2025     8238975            1      3      1     10   \n",
       "...         ...  ...   ...         ...          ...    ...    ...    ...   \n",
       "67851  20250626    6  2025     8283060            1      1      1     10   \n",
       "67852  20250626    6  2025     8283060            1      2      1     10   \n",
       "67853  20250626    6  2025     8283062            1      1      1     10   \n",
       "67854  20250626    6  2025     8283062            1      2      1     10   \n",
       "67855  20250626    6  2025     8283062            1      3      1     10   \n",
       "\n",
       "       AREA  CLASE  ...  P6170  P3041  P3042  P3042S1  P3042S2  P3043  \\\n",
       "0       NaN      2  ...    2.0    NaN    5.0      2.0      NaN    2.0   \n",
       "1       NaN      2  ...    2.0    NaN    5.0      1.0      NaN    1.0   \n",
       "2       NaN      2  ...    2.0    NaN    3.0      3.0      NaN    NaN   \n",
       "3       NaN      2  ...    2.0    NaN    1.0      0.0      NaN    NaN   \n",
       "4       NaN      2  ...    2.0    NaN    1.0      0.0      NaN    NaN   \n",
       "...     ...    ...  ...    ...    ...    ...      ...      ...    ...   \n",
       "67851  88.0      1  ...    2.0    NaN    5.0      2.0      NaN    2.0   \n",
       "67852  88.0      1  ...    2.0    NaN    5.0      2.0      NaN    2.0   \n",
       "67853  94.0      1  ...    2.0    NaN    3.0      3.0      NaN    NaN   \n",
       "67854  94.0      1  ...    2.0    NaN    3.0      2.0      NaN    NaN   \n",
       "67855  94.0      1  ...    2.0    NaN    5.0      2.0      NaN    2.0   \n",
       "\n",
       "       P3043S1  P3038  P3039  POB_MAY18  \n",
       "0          NaN    1.0    2.0        1.0  \n",
       "1          NaN    2.0    1.0        1.0  \n",
       "2          NaN    2.0    1.0        1.0  \n",
       "3          NaN    2.0    1.0        1.0  \n",
       "4          NaN    1.0    2.0        1.0  \n",
       "...        ...    ...    ...        ...  \n",
       "67851      NaN    1.0    2.0        1.0  \n",
       "67852      NaN    2.0    1.0        1.0  \n",
       "67853      NaN    2.0    1.0        1.0  \n",
       "67854      NaN    1.0    2.0        1.0  \n",
       "67855      NaN    1.0    2.0        1.0  \n",
       "\n",
       "[67856 rows x 55 columns]"
      ]
     },
     "execution_count": 3,
     "metadata": {},
     "output_type": "execute_result"
    }
   ],
   "source": [
    "df_cgsse"
   ]
  },
  {
   "cell_type": "markdown",
   "id": "4a2afb46",
   "metadata": {},
   "source": [
    "1. Para el total nacional calcule :\n"
   ]
  },
  {
   "cell_type": "code",
   "execution_count": 4,
   "id": "bfd42b14",
   "metadata": {},
   "outputs": [
    {
     "name": "stdout",
     "output_type": "stream",
     "text": [
      "La Población total de colombia es: 52045001\n"
     ]
    }
   ],
   "source": [
    "# a. calculando la poblacion total de colombia \n",
    "PT=(df_cgsse['FEX_C18'].sum())\n",
    "print(f'La Población total de colombia es: {int(PT)}')"
   ]
  },
  {
   "cell_type": "code",
   "execution_count": 5,
   "id": "6f9d664d",
   "metadata": {},
   "outputs": [
    {
     "name": "stderr",
     "output_type": "stream",
     "text": [
      "/tmp/ipykernel_2052/1156854569.py:3: DtypeWarning: Columns (28,89,133,147,158) have mixed types. Specify dtype option on import or set low_memory=False.\n",
      "  df_ocupados = pd.read_csv('https://github.com/niconomist98/DataAnalyticsUQ/raw/refs/heads/main/Datos/GEIH2025/Ocupados.CSV', encoding='latin', sep= ';')\n",
      "/tmp/ipykernel_2052/1156854569.py:7: DtypeWarning: Columns (33) have mixed types. Specify dtype option on import or set low_memory=False.\n",
      "  df_fuerza= pd.read_csv('https://github.com/niconomist98/DataAnalyticsUQ/raw/refs/heads/main/Datos/GEIH2025/Fuerza%20de%20trabajo.CSV', encoding='latin', sep= ';')\n"
     ]
    }
   ],
   "source": [
    "#leemos los datos de ocupados, desocupados y fuerza de trabajo\n",
    "\n",
    "df_ocupados = pd.read_csv('https://github.com/niconomist98/DataAnalyticsUQ/raw/refs/heads/main/Datos/GEIH2025/Ocupados.CSV', encoding='latin', sep= ';')\n",
    "\n",
    "df_desocupados = pd.read_csv('https://github.com/niconomist98/DataAnalyticsUQ/raw/refs/heads/main/Datos/GEIH2025/No%20ocupados.CSV', encoding='latin', sep= ';')\n",
    "\n",
    "df_fuerza= pd.read_csv('https://github.com/niconomist98/DataAnalyticsUQ/raw/refs/heads/main/Datos/GEIH2025/Fuerza%20de%20trabajo.CSV', encoding='latin', sep= ';')"
   ]
  },
  {
   "cell_type": "code",
   "execution_count": 6,
   "id": "0ee6506a",
   "metadata": {},
   "outputs": [
    {
     "name": "stdout",
     "output_type": "stream",
     "text": [
      "la poblacion en edad de trabajar es: 43252607\n"
     ]
    }
   ],
   "source": [
    "# b. calulamos la poblacion en edad de trabajar, teniendo en cuenta que en colombia segun el dane las personas en edad de trabajar deben ser mayores de 12 años en el caso urbano \n",
    "PET=df_cgsse[df_cgsse['P6040']>=12]['FEX_C18'].sum()\n",
    "print(f'la poblacion en edad de trabajar es: {int(PET)}')"
   ]
  },
  {
   "cell_type": "code",
   "execution_count": 7,
   "id": "98f6d5b9",
   "metadata": {},
   "outputs": [
    {
     "name": "stdout",
     "output_type": "stream",
     "text": [
      "la poblacion que no esta en edad de trabajar es: 8792393\n"
     ]
    }
   ],
   "source": [
    "#c. calculamos la poblacion que no esta en edad de trabajar \n",
    "PNET=df_cgsse[df_cgsse['P6040']<12]['FEX_C18'].sum()\n",
    "print(f'la poblacion que no esta en edad de trabajar es: {int(PNET)}')"
   ]
  },
  {
   "cell_type": "code",
   "execution_count": 8,
   "id": "55cb4c20",
   "metadata": {},
   "outputs": [
    {
     "name": "stdout",
     "output_type": "stream",
     "text": [
      "La Población economicamente activa es: 42875309\n"
     ]
    }
   ],
   "source": [
    "#d. calculamos la población económicamente activa, segun el dane tambien se llama fuerza laboral y son las personas en edad de trabajar, que trabajan o buscan empleo\n",
    "PEA=(df_fuerza['FEX_C18'].sum())+ df_desocupados[df_desocupados['DSI']==1][\"FEX_C18\"].sum()\n",
    "print(f'La Población economicamente activa es: {int(PEA)}')"
   ]
  },
  {
   "cell_type": "code",
   "execution_count": 9,
   "id": "a65b7ab0",
   "metadata": {},
   "outputs": [
    {
     "name": "stdout",
     "output_type": "stream",
     "text": [
      "La población economicamente inactiva es: 377298\n"
     ]
    }
   ],
   "source": [
    "#e. calculamos la población económicamente inactiva, \n",
    "PEI=PET-PEA\n",
    "print(f'La población economicamente inactiva es: {int(PEI)}')"
   ]
  },
  {
   "cell_type": "code",
   "execution_count": null,
   "id": "c166b6be",
   "metadata": {},
   "outputs": [
    {
     "name": "stdout",
     "output_type": "stream",
     "text": [
      "la tasa de ocupacion es:  54.92%\n"
     ]
    }
   ],
   "source": [
    "#f. calculamos la tasa de ocupación, es la relacion porcentual entre la poblacion ocupada y el numero de personas que integran la poblacion en edad de trabajar\n",
    "Total_Ocupados=int(df_ocupados['FEX_C18'].sum())\n",
    "TO=Total_Ocupados/PET\n",
    "print(f'la tasa de ocupacion es: {TO: .2%}')"
   ]
  },
  {
   "cell_type": "code",
   "execution_count": 15,
   "id": "13fd2a97",
   "metadata": {},
   "outputs": [
    {
     "name": "stdout",
     "output_type": "stream",
     "text": [
      "la tasa de desempleo es:  39.07%\n"
     ]
    }
   ],
   "source": [
    "#g. calculamos la tasa de desempleo, es la relacion porcentual entre el numero de personas que buscan empleo y el numero de personas que integran la fuerza laboral\n",
    "Total_Descupados=int(df_desocupados['FEX_C18'].sum())\n",
    "TD=Total_Descupados/PET\n",
    "print(f'la tasa de desempleo es: {TD: .2%}')"
   ]
  },
  {
   "cell_type": "markdown",
   "id": "8265c99f",
   "metadata": {},
   "source": [
    "2. Calcule las tasas de desempleo para hombres y mujeres en todos los departamentos de colombia, cuales son los departamentos con mayores y menores tasas de desempleo ?"
   ]
  },
  {
   "cell_type": "code",
   "execution_count": 22,
   "id": "67bf6a27",
   "metadata": {},
   "outputs": [],
   "source": [
    "#haremos un merge para poder integrar la variable genero a ocuopados y desocupados\n",
    "df_ocupados_genero=pd.merge(df_ocupados, df_cgsse[['DIRECTORIO', 'SECUENCIA_P', 'ORDEN', 'P3271']], on=['DIRECTORIO', 'SECUENCIA_P', 'ORDEN'], how='left') \n",
    "df_desocupados_genero=pd.merge(df_desocupados, df_cgsse[['DIRECTORIO', 'SECUENCIA_P', 'ORDEN', 'P3271']], on=['DIRECTORIO', 'SECUENCIA_P', 'ORDEN'], how='left') + df_desocupados[df_desocupados['DSI']==1]\n",
    "df_fuerza_genero=pd.merge(df_fuerza, df_cgsse[['DIRECTORIO', 'SECUENCIA_P', 'ORDEN', 'P3271']], on=['DIRECTORIO', 'SECUENCIA_P', 'ORDEN'], how='left')\n",
    "#agrupamos el departamento y el genero"
   ]
  }
 ],
 "metadata": {
  "kernelspec": {
   "display_name": ".venv",
   "language": "python",
   "name": "python3"
  },
  "language_info": {
   "codemirror_mode": {
    "name": "ipython",
    "version": 3
   },
   "file_extension": ".py",
   "mimetype": "text/x-python",
   "name": "python",
   "nbconvert_exporter": "python",
   "pygments_lexer": "ipython3",
   "version": "3.12.1"
  }
 },
 "nbformat": 4,
 "nbformat_minor": 5
}
